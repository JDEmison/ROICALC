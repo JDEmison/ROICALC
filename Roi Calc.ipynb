{
 "cells": [
  {
   "cell_type": "code",
   "execution_count": 5,
   "id": "f76f73f7",
   "metadata": {},
   "outputs": [
    {
     "name": "stdout",
     "output_type": "stream",
     "text": [
      "beans\n",
      "Would you like to use our ROI calculator(Y / N)?y\n",
      "What is the total income for your property2000\n",
      "What is the total monthly expenses for your property?1610\n",
      "What is the total investment you have put into the property?50000\n",
      "9.36\n"
     ]
    }
   ],
   "source": [
    "class ROI():\n",
    "    def __init__ (self):\n",
    "        print('HEllo')\n",
    "    def propertyIncome(self):\n",
    "        global income_input\n",
    "        income_input = input(\"What is the total income for your property\")\n",
    "        if int(income_input) == 0:\n",
    "            print('We cant calculate for no income.')\n",
    "    def propertyExpenses(self):\n",
    "        global expenses_input\n",
    "        expenses_input = input('What is the total monthly expenses for your property?')\n",
    "        if int(expenses_input) == 0:\n",
    "            print('We cant calculate for no monthly expenses')\n",
    "    def cocROI(self):\n",
    "        annual_cash_flow = 12 * (int(income_input) - int(expenses_input))\n",
    "        total_input = input('What is the total investment you have put into the property?')\n",
    "        roi = 100 * (annual_cash_flow/int(total_input)) \n",
    "        print(roi)\n",
    "\n",
    "my_rental = ROI()\n",
    "\n",
    "while True:\n",
    "    response = input('Would you like to use our ROI calculator(Y / N)?')\n",
    "    if response.lower() == 'y':\n",
    "        my_rental.propertyIncome()\n",
    "        my_rental.propertyExpenses()\n",
    "        my_rental.cocROI()\n",
    "        break\n",
    "    elif response.lower() == 'n':\n",
    "        print('Have a nice day')\n",
    "        break"
   ]
  },
  {
   "cell_type": "code",
   "execution_count": null,
   "id": "f420b94f",
   "metadata": {},
   "outputs": [],
   "source": []
  }
 ],
 "metadata": {
  "kernelspec": {
   "display_name": "Python 3 (ipykernel)",
   "language": "python",
   "name": "python3"
  },
  "language_info": {
   "codemirror_mode": {
    "name": "ipython",
    "version": 3
   },
   "file_extension": ".py",
   "mimetype": "text/x-python",
   "name": "python",
   "nbconvert_exporter": "python",
   "pygments_lexer": "ipython3",
   "version": "3.9.13"
  }
 },
 "nbformat": 4,
 "nbformat_minor": 5
}
